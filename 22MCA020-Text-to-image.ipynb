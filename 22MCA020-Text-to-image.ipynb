{
  "cells": [
    {
      "cell_type": "markdown",
      "metadata": {
        "id": "NUU2wWzaTUhe"
      },
      "source": [
        "## Text-to-Image Generation using Stable Diffusion and Diffusers\n",
        "\n"
      ]
    },
    {
      "cell_type": "code",
      "execution_count": null,
      "metadata": {
        "collapsed": true,
        "id": "PjHEI21m5gOO"
      },
      "outputs": [],
      "source": [
        "!pip install diffusers transformers accelerate"
      ]
    },
    {
      "cell_type": "code",
      "execution_count": null,
      "metadata": {
        "id": "6vaYX6D25ssW"
      },
      "outputs": [],
      "source": [
        "from diffusers import StableDiffusionPipeline\n",
        "import matplotlib.pyplot as plt\n",
        "import torch"
      ]
    },
    {
      "cell_type": "code",
      "execution_count": null,
      "metadata": {
        "collapsed": true,
        "id": "4xzK7UjS52De"
      },
      "outputs": [],
      "source": [
        "model_id1 = \"dreamlike-art/dreamlike-diffusion-1.0\"\n",
        "\n",
        "pipe = StableDiffusionPipeline.from_pretrained(model_id1, torch_dtype=torch.float16, use_safetensors=True)\n",
        "pipe = pipe.to(\"cuda\")"
      ]
    },
    {
      "cell_type": "code",
      "execution_count": null,
      "metadata": {
        "id": "s_l-F4666wfs"
      },
      "outputs": [],
      "source": [
        "prompt = \"\"\"Musician with black guitar\n",
        "\"\"\""
      ]
    },
    {
      "cell_type": "code",
      "execution_count": null,
      "metadata": {
        "id": "VOOFYyqa7t0b"
      },
      "outputs": [],
      "source": [
        "image = pipe(prompt).images[0]\n"
      ]
    },
    {
      "cell_type": "code",
      "execution_count": null,
      "metadata": {
        "id": "_LLxO4VJ7w7w",
        "collapsed": true
      },
      "outputs": [],
      "source": [
        "print(\"[PROMPT]: \",prompt)\n",
        "plt.imshow(image);\n",
        "plt.axis('off');"
      ]
    },
    {
      "cell_type": "code",
      "execution_count": null,
      "metadata": {
        "id": "o-VkISO672kV"
      },
      "outputs": [],
      "source": [
        "prompt2 = \"\"\"An image of a vibrant city at sunset with realistic details\n",
        "\"\"\"\n",
        "\n",
        "image = pipe(prompt2).images[0]"
      ]
    },
    {
      "cell_type": "code",
      "execution_count": null,
      "metadata": {
        "id": "Wfkmii2-8kcZ"
      },
      "outputs": [],
      "source": [
        "print('[PROMPT]: ',prompt2)\n",
        "plt.imshow(image);\n",
        "plt.axis('off');"
      ]
    }
  ],
  "metadata": {
    "accelerator": "GPU",
    "colab": {
      "gpuType": "T4",
      "provenance": []
    },
    "kernelspec": {
      "display_name": "Python 3",
      "name": "python3"
    },
    "language_info": {
      "name": "python"
    }
  },
  "nbformat": 4,
  "nbformat_minor": 0
}